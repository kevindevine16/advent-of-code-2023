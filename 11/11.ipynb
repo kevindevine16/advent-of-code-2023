{
 "cells": [
  {
   "cell_type": "code",
   "execution_count": 1,
   "metadata": {},
   "outputs": [],
   "source": [
    "import numpy as np\n",
    "import pandas as pd\n",
    "\n",
    "import os\n",
    "pd.set_option('display.max_rows', 10)"
   ]
  },
  {
   "cell_type": "code",
   "execution_count": 2,
   "metadata": {},
   "outputs": [
    {
     "data": {
      "text/html": [
       "<div>\n",
       "<style scoped>\n",
       "    .dataframe tbody tr th:only-of-type {\n",
       "        vertical-align: middle;\n",
       "    }\n",
       "\n",
       "    .dataframe tbody tr th {\n",
       "        vertical-align: top;\n",
       "    }\n",
       "\n",
       "    .dataframe thead th {\n",
       "        text-align: right;\n",
       "    }\n",
       "</style>\n",
       "<table border=\"1\" class=\"dataframe\">\n",
       "  <thead>\n",
       "    <tr style=\"text-align: right;\">\n",
       "      <th></th>\n",
       "      <th>inputs</th>\n",
       "    </tr>\n",
       "  </thead>\n",
       "  <tbody>\n",
       "    <tr>\n",
       "      <th>0</th>\n",
       "      <td>.........................#.........#.............</td>\n",
       "    </tr>\n",
       "    <tr>\n",
       "      <th>1</th>\n",
       "      <td>.............................................#...</td>\n",
       "    </tr>\n",
       "    <tr>\n",
       "      <th>2</th>\n",
       "      <td>.......#............#..........#.................</td>\n",
       "    </tr>\n",
       "    <tr>\n",
       "      <th>3</th>\n",
       "      <td>.#...............................................</td>\n",
       "    </tr>\n",
       "    <tr>\n",
       "      <th>4</th>\n",
       "      <td>................#.....................#..........</td>\n",
       "    </tr>\n",
       "    <tr>\n",
       "      <th>...</th>\n",
       "      <td>...</td>\n",
       "    </tr>\n",
       "    <tr>\n",
       "      <th>135</th>\n",
       "      <td>..#.....................#........................</td>\n",
       "    </tr>\n",
       "    <tr>\n",
       "      <th>136</th>\n",
       "      <td>.................................................</td>\n",
       "    </tr>\n",
       "    <tr>\n",
       "      <th>137</th>\n",
       "      <td>.........#.......................................</td>\n",
       "    </tr>\n",
       "    <tr>\n",
       "      <th>138</th>\n",
       "      <td>.............................#.....#.............</td>\n",
       "    </tr>\n",
       "    <tr>\n",
       "      <th>139</th>\n",
       "      <td>.............#...................................</td>\n",
       "    </tr>\n",
       "  </tbody>\n",
       "</table>\n",
       "<p>140 rows × 1 columns</p>\n",
       "</div>"
      ],
      "text/plain": [
       "                                                inputs\n",
       "0    .........................#.........#.............\n",
       "1    .............................................#...\n",
       "2    .......#............#..........#.................\n",
       "3    .#...............................................\n",
       "4    ................#.....................#..........\n",
       "..                                                 ...\n",
       "135  ..#.....................#........................\n",
       "136  .................................................\n",
       "137  .........#.......................................\n",
       "138  .............................#.....#.............\n",
       "139  .............#...................................\n",
       "\n",
       "[140 rows x 1 columns]"
      ]
     },
     "execution_count": 2,
     "metadata": {},
     "output_type": "execute_result"
    }
   ],
   "source": [
    "data_path = os.path.join('Data','input.txt')\n",
    "data = pd.read_table(data_path)\n",
    "data = data.T.reset_index().T.reset_index(drop = True)\n",
    "data.rename(columns={0:'inputs'},inplace = True)\n",
    "data"
   ]
  },
  {
   "cell_type": "code",
   "execution_count": 3,
   "metadata": {},
   "outputs": [],
   "source": [
    "a = np.array([list(x) for x in data['inputs']], dtype='U25')\n",
    "def RowsAndColumnsNoGalaxy(a:np.ndarray)->tuple:\n",
    "    rows_with_no_galaxy = []\n",
    "    for i in range(a.shape[0]):\n",
    "        if '#' not in a[i,:]:\n",
    "            rows_with_no_galaxy.append(i)\n",
    "    columns_with_no_galaxy = []\n",
    "    for j in range(a.shape[1]):\n",
    "        if '#' not in a[:,j]:\n",
    "            columns_with_no_galaxy.append(j)\n",
    "    return rows_with_no_galaxy, columns_with_no_galaxy\n",
    "rows_with_no_galaxy, columns_with_no_galaxy = RowsAndColumnsNoGalaxy(a)"
   ]
  },
  {
   "cell_type": "code",
   "execution_count": 4,
   "metadata": {},
   "outputs": [],
   "source": [
    "insert_count = 0\n",
    "row_insert_index = []\n",
    "for i in rows_with_no_galaxy:\n",
    "    row_insert_index.append(i+insert_count)\n",
    "\n",
    "insert_count = 0\n",
    "column_insert_index = []\n",
    "for j in columns_with_no_galaxy:\n",
    "    column_insert_index.append(j+insert_count)"
   ]
  },
  {
   "cell_type": "code",
   "execution_count": 5,
   "metadata": {},
   "outputs": [
    {
     "data": {
      "text/plain": [
       "440"
      ]
     },
     "execution_count": 5,
     "metadata": {},
     "output_type": "execute_result"
    }
   ],
   "source": [
    "no_of_galaxys = 0\n",
    "galaxy_indices = []\n",
    "for i in range(a.shape[0]):\n",
    "    for j in range(a.shape[1]):\n",
    "        if a[i,j] == '#':\n",
    "            no_of_galaxys += 1\n",
    "            a[i,j] = int(no_of_galaxys)\n",
    "            galaxy_indices.append([i,j])\n",
    "no_of_galaxys"
   ]
  },
  {
   "cell_type": "code",
   "execution_count": 6,
   "metadata": {},
   "outputs": [
    {
     "data": {
      "text/plain": [
       "96580"
      ]
     },
     "execution_count": 6,
     "metadata": {},
     "output_type": "execute_result"
    }
   ],
   "source": [
    "no_of_galaxy_pairs = int(no_of_galaxys*(no_of_galaxys+1)/2)-no_of_galaxys\n",
    "no_of_galaxy_pairs"
   ]
  },
  {
   "cell_type": "code",
   "execution_count": 7,
   "metadata": {},
   "outputs": [
    {
     "data": {
      "text/plain": [
       "96580"
      ]
     },
     "execution_count": 7,
     "metadata": {},
     "output_type": "execute_result"
    }
   ],
   "source": [
    "galaxy_pairs = []\n",
    "counter = 0\n",
    "for k in range(len(galaxy_indices)):\n",
    "    for m in range(k+1,len(galaxy_indices)):\n",
    "        galaxy_pairs.append([galaxy_indices[k],galaxy_indices[m]])\n",
    "        counter+=1\n",
    "        pass\n",
    "counter"
   ]
  },
  {
   "cell_type": "code",
   "execution_count": 8,
   "metadata": {},
   "outputs": [],
   "source": [
    "distance_sums = 0\n",
    "for i in range(len(galaxy_pairs)):\n",
    "    for row_index in row_insert_index:\n",
    "        if row_index in range(galaxy_pairs[i][0][0],galaxy_pairs[i][1][0]) or row_index in range(galaxy_pairs[i][1][0],galaxy_pairs[i][0][0]):\n",
    "            distance_sums += 2-1\n",
    "    for column_index in column_insert_index:\n",
    "        if column_index in range(galaxy_pairs[i][0][1],galaxy_pairs[i][1][1]) or column_index in range(galaxy_pairs[i][1][1],galaxy_pairs[i][0][1]):\n",
    "            distance_sums += 2-1\n",
    "    distance_sums += abs(galaxy_pairs[i][0][0]-galaxy_pairs[i][1][0])+abs(galaxy_pairs[i][0][1]-galaxy_pairs[i][1][1])"
   ]
  },
  {
   "cell_type": "code",
   "execution_count": 9,
   "metadata": {},
   "outputs": [
    {
     "data": {
      "text/plain": [
       "9918828"
      ]
     },
     "execution_count": 9,
     "metadata": {},
     "output_type": "execute_result"
    }
   ],
   "source": [
    "distance_sums"
   ]
  },
  {
   "cell_type": "code",
   "execution_count": 10,
   "metadata": {},
   "outputs": [],
   "source": [
    "distance_sums = 0\n",
    "for i in range(len(galaxy_pairs)):\n",
    "    for row_index in row_insert_index:\n",
    "        if row_index in range(galaxy_pairs[i][0][0],galaxy_pairs[i][1][0]) or row_index in range(galaxy_pairs[i][1][0],galaxy_pairs[i][0][0]):\n",
    "            distance_sums += int(1e6)-1\n",
    "    for column_index in column_insert_index:\n",
    "        if column_index in range(galaxy_pairs[i][0][1],galaxy_pairs[i][1][1]) or column_index in range(galaxy_pairs[i][1][1],galaxy_pairs[i][0][1]):\n",
    "            distance_sums += int(1e6)-1\n",
    "    distance_sums += abs(galaxy_pairs[i][0][0]-galaxy_pairs[i][1][0])+abs(galaxy_pairs[i][0][1]-galaxy_pairs[i][1][1])"
   ]
  },
  {
   "cell_type": "code",
   "execution_count": 11,
   "metadata": {},
   "outputs": [
    {
     "data": {
      "text/plain": [
       "692506533832"
      ]
     },
     "execution_count": 11,
     "metadata": {},
     "output_type": "execute_result"
    }
   ],
   "source": [
    "distance_sums"
   ]
  },
  {
   "cell_type": "code",
   "execution_count": 12,
   "metadata": {},
   "outputs": [
    {
     "name": "stderr",
     "output_type": "stream",
     "text": [
      "[NbConvertApp] Converting notebook 11.ipynb to script\n",
      "[NbConvertApp] Writing 3153 bytes to 11_raw.py\n"
     ]
    }
   ],
   "source": [
    "import sys\n",
    "sys.path.append(os.pardir)\n",
    "from src.HelperFunctions import convert_to_py\n",
    "\n",
    "convert_to_py('11')"
   ]
  }
 ],
 "metadata": {
  "kernelspec": {
   "display_name": "vscode-env",
   "language": "python",
   "name": "python3"
  },
  "language_info": {
   "codemirror_mode": {
    "name": "ipython",
    "version": 3
   },
   "file_extension": ".py",
   "mimetype": "text/x-python",
   "name": "python",
   "nbconvert_exporter": "python",
   "pygments_lexer": "ipython3",
   "version": "3.10.4"
  }
 },
 "nbformat": 4,
 "nbformat_minor": 2
}
