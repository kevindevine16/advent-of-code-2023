{
 "cells": [
  {
   "cell_type": "code",
   "execution_count": 1,
   "metadata": {},
   "outputs": [],
   "source": [
    "import numpy as np\n",
    "import pandas as pd\n",
    "\n",
    "import os\n",
    "pd.set_option('display.max_rows', 10)"
   ]
  },
  {
   "cell_type": "code",
   "execution_count": 2,
   "metadata": {},
   "outputs": [],
   "source": [
    "data_path = os.path.join('Data','input.txt')\n",
    "data = pd.read_table(data_path)\n",
    "data = data.T.reset_index().T.reset_index(drop = True)\n",
    "data.rename(columns={0:'inputs'},inplace = True)\n",
    "data['game_number'] = data['inputs'].apply(lambda input: int(input.split(':')[0].split(' ')[1]))\n",
    "data['draws'] = data['inputs'].apply(lambda input: input.split(':')[1])\n",
    "data['draws_split'] = data['draws'].apply(lambda draw: draw.split(';'))\n"
   ]
  },
  {
   "cell_type": "code",
   "execution_count": 3,
   "metadata": {},
   "outputs": [],
   "source": [
    "\n",
    "def getReds(draw_split:str)->list:\n",
    "    numOfReds = []\n",
    "    for i in range(len(draw_split)):\n",
    "        if 'red' in draw_split[i]:\n",
    "            color_split = draw_split[i].split(',')\n",
    "            for cs in color_split:\n",
    "                if 'red' in cs:\n",
    "                    numOfReds.append(int(cs.strip().split(' ')[0]))\n",
    "        else:\n",
    "            numOfReds.append(0)\n",
    "            \n",
    "    return numOfReds\n",
    "\n",
    "def getBlues(draw_split:str)->list:\n",
    "    numOfBlues = []\n",
    "    for i in range(len(draw_split)):\n",
    "        if 'blue' in draw_split[i]:\n",
    "            color_split = draw_split[i].split(',')\n",
    "            for cs in color_split:\n",
    "                if 'blue' in cs:\n",
    "                    numOfBlues.append(int(cs.strip().split(' ')[0]))\n",
    "        else:\n",
    "            numOfBlues.append(0)\n",
    "            \n",
    "    return numOfBlues\n",
    "\n",
    "def getGreens(draw_split:str)->list:\n",
    "    numOfGreens = []\n",
    "    for i in range(len(draw_split)):\n",
    "        if 'green' in draw_split[i]:\n",
    "            color_split = draw_split[i].split(',')\n",
    "            for cs in color_split:\n",
    "                if 'green' in cs:\n",
    "                    numOfGreens.append(int(cs.strip().split(' ')[0]))\n",
    "        else:\n",
    "            numOfGreens.append(0)\n",
    "            \n",
    "    return numOfGreens\n",
    "\n"
   ]
  },
  {
   "cell_type": "code",
   "execution_count": 4,
   "metadata": {},
   "outputs": [],
   "source": [
    "data['Reds_list'] = data['draws_split'].apply(lambda draws: getReds(draws))\n",
    "data['Blues_list'] = data['draws_split'].apply(lambda draws: getBlues(draws))\n",
    "data['Greens_list'] = data['draws_split'].apply(lambda draws: getGreens(draws))\n"
   ]
  },
  {
   "cell_type": "code",
   "execution_count": 5,
   "metadata": {},
   "outputs": [],
   "source": [
    "def checkPossible(my_list:list, \n",
    "                  my_max:int)->bool:\n",
    "    for cubes in my_list:\n",
    "        if cubes > my_max:\n",
    "            return False\n",
    "        else:\n",
    "            pass\n",
    "    return True\n",
    "\n",
    "data['Reds_possible'] = data['Reds_list'].apply(lambda my_list: checkPossible(my_list = my_list, my_max = 12))\n",
    "data['Greens_possible'] = data['Greens_list'].apply(lambda my_list: checkPossible(my_list = my_list, my_max = 13))\n",
    "data['Blues_possible'] = data['Blues_list'].apply(lambda my_list: checkPossible(my_list = my_list, my_max = 14))\n"
   ]
  },
  {
   "cell_type": "code",
   "execution_count": 6,
   "metadata": {},
   "outputs": [
    {
     "data": {
      "text/plain": [
       "2528"
      ]
     },
     "execution_count": 6,
     "metadata": {},
     "output_type": "execute_result"
    }
   ],
   "source": [
    "\n",
    "data_possible = data[['game_number','Reds_list','Greens_list','Blues_list','Reds_possible','Greens_possible','Blues_possible']][(data['Reds_possible']) & (data['Greens_possible']) & (data['Blues_possible'])]\n",
    "data_possible['game_number'].sum()"
   ]
  },
  {
   "cell_type": "code",
   "execution_count": 7,
   "metadata": {},
   "outputs": [],
   "source": [
    "data['minimum_reds_needed'] = data['Reds_list'].apply(lambda cubes: np.max(cubes))\n",
    "data['minimum_greens_needed'] = data['Greens_list'].apply(lambda cubes: np.max(cubes))\n",
    "data['minimum_blues_needed'] = data['Blues_list'].apply(lambda cubes: np.max(cubes))\n",
    "data['power'] = data['minimum_reds_needed']*data['minimum_greens_needed']*data['minimum_blues_needed']\n"
   ]
  },
  {
   "cell_type": "code",
   "execution_count": 8,
   "metadata": {},
   "outputs": [
    {
     "data": {
      "text/plain": [
       "67363"
      ]
     },
     "execution_count": 8,
     "metadata": {},
     "output_type": "execute_result"
    }
   ],
   "source": [
    "data['power'].sum()"
   ]
  },
  {
   "cell_type": "code",
   "execution_count": 9,
   "metadata": {},
   "outputs": [
    {
     "name": "stderr",
     "output_type": "stream",
     "text": [
      "[NbConvertApp] Converting notebook 2.ipynb to script\n",
      "[NbConvertApp] Writing 3438 bytes to 2_raw.py\n"
     ]
    }
   ],
   "source": [
    "import sys\n",
    "sys.path.append(os.pardir)\n",
    "from src.HelperFunctions import convert_to_py\n",
    "\n",
    "convert_to_py('2')"
   ]
  }
 ],
 "metadata": {
  "kernelspec": {
   "display_name": "spy-env-notebooks",
   "language": "python",
   "name": "python3"
  },
  "language_info": {
   "codemirror_mode": {
    "name": "ipython",
    "version": 3
   },
   "file_extension": ".py",
   "mimetype": "text/x-python",
   "name": "python",
   "nbconvert_exporter": "python",
   "pygments_lexer": "ipython3",
   "version": "3.10.4"
  }
 },
 "nbformat": 4,
 "nbformat_minor": 2
}
