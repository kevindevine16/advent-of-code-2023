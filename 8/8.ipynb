{
 "cells": [
  {
   "cell_type": "code",
   "execution_count": 1,
   "metadata": {},
   "outputs": [],
   "source": [
    "import numpy as np\n",
    "import pandas as pd\n",
    "\n",
    "import os\n",
    "pd.set_option('display.max_rows', 10)"
   ]
  },
  {
   "cell_type": "code",
   "execution_count": 2,
   "metadata": {},
   "outputs": [],
   "source": [
    "def GetLHS(string):\n",
    "    string = string.split(' = (')[0].replace(')','')\n",
    "    return string"
   ]
  },
  {
   "cell_type": "code",
   "execution_count": 3,
   "metadata": {},
   "outputs": [],
   "source": [
    "def GetRHS(string):\n",
    "    string = string.split('(')[1].replace(')','')\n",
    "    return string.split(', ')"
   ]
  },
  {
   "cell_type": "code",
   "execution_count": 4,
   "metadata": {},
   "outputs": [
    {
     "data": {
      "text/html": [
       "<div>\n",
       "<style scoped>\n",
       "    .dataframe tbody tr th:only-of-type {\n",
       "        vertical-align: middle;\n",
       "    }\n",
       "\n",
       "    .dataframe tbody tr th {\n",
       "        vertical-align: top;\n",
       "    }\n",
       "\n",
       "    .dataframe thead th {\n",
       "        text-align: right;\n",
       "    }\n",
       "</style>\n",
       "<table border=\"1\" class=\"dataframe\">\n",
       "  <thead>\n",
       "    <tr style=\"text-align: right;\">\n",
       "      <th></th>\n",
       "      <th>inputs</th>\n",
       "      <th>LHS</th>\n",
       "      <th>RHS</th>\n",
       "    </tr>\n",
       "  </thead>\n",
       "  <tbody>\n",
       "    <tr>\n",
       "      <th>1</th>\n",
       "      <td>NQT = (TXC, RVJ)</td>\n",
       "      <td>NQT</td>\n",
       "      <td>[TXC, RVJ]</td>\n",
       "    </tr>\n",
       "    <tr>\n",
       "      <th>2</th>\n",
       "      <td>FPT = (PNS, KJL)</td>\n",
       "      <td>FPT</td>\n",
       "      <td>[PNS, KJL]</td>\n",
       "    </tr>\n",
       "    <tr>\n",
       "      <th>3</th>\n",
       "      <td>BNQ = (THG, LCV)</td>\n",
       "      <td>BNQ</td>\n",
       "      <td>[THG, LCV]</td>\n",
       "    </tr>\n",
       "    <tr>\n",
       "      <th>4</th>\n",
       "      <td>SPL = (VBH, NNV)</td>\n",
       "      <td>SPL</td>\n",
       "      <td>[VBH, NNV]</td>\n",
       "    </tr>\n",
       "    <tr>\n",
       "      <th>5</th>\n",
       "      <td>TLM = (LVQ, PGT)</td>\n",
       "      <td>TLM</td>\n",
       "      <td>[LVQ, PGT]</td>\n",
       "    </tr>\n",
       "    <tr>\n",
       "      <th>...</th>\n",
       "      <td>...</td>\n",
       "      <td>...</td>\n",
       "      <td>...</td>\n",
       "    </tr>\n",
       "    <tr>\n",
       "      <th>734</th>\n",
       "      <td>SGR = (VQV, TKX)</td>\n",
       "      <td>SGR</td>\n",
       "      <td>[VQV, TKX]</td>\n",
       "    </tr>\n",
       "    <tr>\n",
       "      <th>735</th>\n",
       "      <td>RBD = (FGX, PLP)</td>\n",
       "      <td>RBD</td>\n",
       "      <td>[FGX, PLP]</td>\n",
       "    </tr>\n",
       "    <tr>\n",
       "      <th>736</th>\n",
       "      <td>SFJ = (GNP, VXQ)</td>\n",
       "      <td>SFJ</td>\n",
       "      <td>[GNP, VXQ]</td>\n",
       "    </tr>\n",
       "    <tr>\n",
       "      <th>737</th>\n",
       "      <td>GXP = (SCK, GXF)</td>\n",
       "      <td>GXP</td>\n",
       "      <td>[SCK, GXF]</td>\n",
       "    </tr>\n",
       "    <tr>\n",
       "      <th>738</th>\n",
       "      <td>QBX = (SBH, SGR)</td>\n",
       "      <td>QBX</td>\n",
       "      <td>[SBH, SGR]</td>\n",
       "    </tr>\n",
       "  </tbody>\n",
       "</table>\n",
       "<p>738 rows × 3 columns</p>\n",
       "</div>"
      ],
      "text/plain": [
       "               inputs  LHS         RHS\n",
       "1    NQT = (TXC, RVJ)  NQT  [TXC, RVJ]\n",
       "2    FPT = (PNS, KJL)  FPT  [PNS, KJL]\n",
       "3    BNQ = (THG, LCV)  BNQ  [THG, LCV]\n",
       "4    SPL = (VBH, NNV)  SPL  [VBH, NNV]\n",
       "5    TLM = (LVQ, PGT)  TLM  [LVQ, PGT]\n",
       "..                ...  ...         ...\n",
       "734  SGR = (VQV, TKX)  SGR  [VQV, TKX]\n",
       "735  RBD = (FGX, PLP)  RBD  [FGX, PLP]\n",
       "736  SFJ = (GNP, VXQ)  SFJ  [GNP, VXQ]\n",
       "737  GXP = (SCK, GXF)  GXP  [SCK, GXF]\n",
       "738  QBX = (SBH, SGR)  QBX  [SBH, SGR]\n",
       "\n",
       "[738 rows x 3 columns]"
      ]
     },
     "execution_count": 4,
     "metadata": {},
     "output_type": "execute_result"
    }
   ],
   "source": [
    "data_path = os.path.join('Data','input.txt')\n",
    "data = pd.read_table(data_path)\n",
    "data = data.T.reset_index().T.reset_index(drop = True)\n",
    "data.rename(columns={0:'inputs'},inplace = True)\n",
    "LR_key = data.iloc[0,0]\n",
    "data = data.tail(-1)\n",
    "data['LHS'] = data['inputs'].apply(lambda input: GetLHS(input))\n",
    "data['RHS'] = data['inputs'].apply(lambda input: GetRHS(input))\n",
    "data"
   ]
  },
  {
   "cell_type": "code",
   "execution_count": 5,
   "metadata": {},
   "outputs": [],
   "source": [
    "mapDic = {}\n",
    "for i in range(len(data)):\n",
    "    mapDic[data['LHS'].iloc[i]] = data['RHS'].iloc[i]\n"
   ]
  },
  {
   "cell_type": "code",
   "execution_count": 6,
   "metadata": {},
   "outputs": [],
   "source": [
    "LR_key = LR_key.replace('L','0')\n",
    "LR_key = LR_key.replace('R','1')"
   ]
  },
  {
   "cell_type": "code",
   "execution_count": 7,
   "metadata": {},
   "outputs": [
    {
     "data": {
      "text/plain": [
       "13771"
      ]
     },
     "execution_count": 7,
     "metadata": {},
     "output_type": "execute_result"
    }
   ],
   "source": [
    "numberOfSteps = 0\n",
    "i = 0\n",
    "key = 'AAA'\n",
    "while key != 'ZZZ':\n",
    "    key = mapDic[key][int(LR_key[i])]\n",
    "    numberOfSteps += 1\n",
    "    i+=1\n",
    "    if i == len(LR_key):\n",
    "        i = 0\n",
    "numberOfSteps"
   ]
  },
  {
   "cell_type": "code",
   "execution_count": 8,
   "metadata": {},
   "outputs": [
    {
     "data": {
      "text/plain": [
       "['GSA', 'DLA', 'MLA', 'MQA', 'AAA', 'JGA']"
      ]
     },
     "execution_count": 8,
     "metadata": {},
     "output_type": "execute_result"
    }
   ],
   "source": [
    "startSet = []\n",
    "for i in range(len(data)):\n",
    "    if data['LHS'].iloc[i][-1] == 'A':\n",
    "        startSet.append(data['LHS'].iloc[i])\n",
    "startSet"
   ]
  },
  {
   "cell_type": "code",
   "execution_count": 9,
   "metadata": {},
   "outputs": [
    {
     "data": {
      "text/plain": [
       "[19631, 17287, 12599, 23147, 13771, 20803]"
      ]
     },
     "execution_count": 9,
     "metadata": {},
     "output_type": "execute_result"
    }
   ],
   "source": [
    "StepsStore = []\n",
    "i = 0\n",
    "keys = startSet\n",
    "for key in keys:\n",
    "    numberOfSteps = 0\n",
    "    checkBool = False\n",
    "    while not checkBool:\n",
    "        key = mapDic[key][int(LR_key[i])]\n",
    "        numberOfSteps += 1\n",
    "        i+=1\n",
    "        if i == len(LR_key):\n",
    "            i = 0\n",
    "        #print(keys)\n",
    "        checkBool = key[-1] == 'Z'\n",
    "    StepsStore.append(numberOfSteps)\n",
    "StepsStore"
   ]
  },
  {
   "cell_type": "code",
   "execution_count": 10,
   "metadata": {},
   "outputs": [
    {
     "data": {
      "text/plain": [
       "13129439557681"
      ]
     },
     "execution_count": 10,
     "metadata": {},
     "output_type": "execute_result"
    }
   ],
   "source": [
    "from math import gcd\n",
    "lcm = 1\n",
    "for i in StepsStore:\n",
    "    lcm = lcm*i//gcd(lcm, i)\n",
    "lcm"
   ]
  },
  {
   "cell_type": "code",
   "execution_count": 11,
   "metadata": {},
   "outputs": [
    {
     "name": "stderr",
     "output_type": "stream",
     "text": [
      "[NbConvertApp] Converting notebook 8.ipynb to script\n",
      "[NbConvertApp] Writing 1837 bytes to 8_raw.py\n"
     ]
    }
   ],
   "source": [
    "import sys\n",
    "sys.path.append(os.pardir)\n",
    "from src.HelperFunctions import convert_to_py\n",
    "\n",
    "convert_to_py('8')"
   ]
  }
 ],
 "metadata": {
  "kernelspec": {
   "display_name": "vscode-env",
   "language": "python",
   "name": "python3"
  },
  "language_info": {
   "codemirror_mode": {
    "name": "ipython",
    "version": 3
   },
   "file_extension": ".py",
   "mimetype": "text/x-python",
   "name": "python",
   "nbconvert_exporter": "python",
   "pygments_lexer": "ipython3",
   "version": "3.10.4"
  }
 },
 "nbformat": 4,
 "nbformat_minor": 2
}
