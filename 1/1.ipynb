{
 "cells": [
  {
   "cell_type": "code",
   "execution_count": 1,
   "metadata": {},
   "outputs": [],
   "source": [
    "import pandas as pd\n",
    "\n",
    "import os\n",
    "pd.set_option('display.max_rows', 10)"
   ]
  },
  {
   "cell_type": "code",
   "execution_count": 2,
   "metadata": {},
   "outputs": [],
   "source": [
    "data_path = os.path.join('Data','input.txt')\n",
    "data = pd.read_csv(data_path)\n",
    "data = data.T.reset_index().T.reset_index(drop = True)\n",
    "data.rename(columns={0:'inputs'},inplace = True)\n"
   ]
  },
  {
   "cell_type": "code",
   "execution_count": 3,
   "metadata": {},
   "outputs": [
    {
     "data": {
      "text/plain": [
       "42"
      ]
     },
     "execution_count": 3,
     "metadata": {},
     "output_type": "execute_result"
    }
   ],
   "source": [
    "txt = '42'\n",
    "\n",
    "def FindCalibrationValuesPart1(txt:str)->int:\n",
    "    FirstDigit = False\n",
    "    SecondDigit = False\n",
    "\n",
    "    for i in range(len(txt)):\n",
    "        if txt[i].isdigit():\n",
    "            FirstDigit = int(txt[i])\n",
    "            break\n",
    "        pass\n",
    "\n",
    "    for i in range(len(txt)):\n",
    "        if txt[-1-i].isdigit():\n",
    "            SecondDigit = int(txt[-1-i])\n",
    "            break\n",
    "        pass\n",
    "    row_int = FirstDigit*10+SecondDigit\n",
    "    return row_int\n",
    "\n",
    "FindCalibrationValuesPart1(txt = txt)\n"
   ]
  },
  {
   "cell_type": "code",
   "execution_count": 4,
   "metadata": {},
   "outputs": [],
   "source": [
    "data['outputs_part1'] = data['inputs'].apply(lambda txt: FindCalibrationValuesPart1(txt = txt))"
   ]
  },
  {
   "cell_type": "code",
   "execution_count": 5,
   "metadata": {},
   "outputs": [
    {
     "data": {
      "text/plain": [
       "54630"
      ]
     },
     "execution_count": 5,
     "metadata": {},
     "output_type": "execute_result"
    }
   ],
   "source": [
    "data['outputs_part1'].sum()"
   ]
  },
  {
   "cell_type": "code",
   "execution_count": 6,
   "metadata": {},
   "outputs": [],
   "source": [
    "\n",
    "def FindFirstDigitPart2(txt:str)->int:\n",
    "    FirstDigit = False\n",
    "    numsInOrder = ['one', 'two', 'three', 'four','five', 'six', 'seven', 'eight','nine']\n",
    "    nums = ['one', 'two', 'six', 'four','five','nine', 'three', 'seven', 'eight']\n",
    "    numKey = {numsInOrder[k]:int(k+1) for k in range(len(numsInOrder))}\n",
    "\n",
    "    for i in range(len(txt)):\n",
    "\n",
    "        if txt[i].isdigit():\n",
    "            FirstDigit = int(txt[i])\n",
    "            return FirstDigit\n",
    "\n",
    "        else:\n",
    "           for num in nums:\n",
    "            if num == txt[i:i+len(num)]:\n",
    "              FirstDigit = numKey[num] \n",
    "              return FirstDigit \n",
    "\n",
    "def FindSecondDigitPart2(txt:str)->int:\n",
    "    SecondDigit = False\n",
    "    numsInOrder = ['one', 'two', 'three', 'four','five', 'six', 'seven', 'eight','nine']\n",
    "    nums = ['one', 'two', 'six', 'four','five','nine', 'three', 'seven', 'eight']\n",
    "    numKey = {numsInOrder[k]:int(k+1) for k in range(len(numsInOrder))}\n",
    "\n",
    "    for i in range(len(txt)):\n",
    "\n",
    "        if txt[-1-i].isdigit():\n",
    "            SecondDigit = int(txt[-1-i])\n",
    "            return SecondDigit\n",
    "\n",
    "        else:\n",
    "           for num in nums:\n",
    "            if num == txt[-len(num)-i:len(txt)-i]:\n",
    "              SecondDigit = numKey[num] \n",
    "              return SecondDigit \n",
    "\n",
    "\n",
    "def FindCalibrationValuesPart2(txt:str)->int:\n",
    "    FirstDigit = FindFirstDigitPart2(txt = txt) \n",
    "    SecondDigit = FindSecondDigitPart2(txt = txt)\n",
    "    return FirstDigit*10+SecondDigit\n",
    "\n",
    "\n"
   ]
  },
  {
   "cell_type": "code",
   "execution_count": 7,
   "metadata": {},
   "outputs": [],
   "source": [
    "data['outputs_part2'] = data['inputs'].apply(lambda txt: FindCalibrationValuesPart2(txt = txt))"
   ]
  },
  {
   "cell_type": "code",
   "execution_count": 8,
   "metadata": {},
   "outputs": [
    {
     "data": {
      "text/plain": [
       "54770"
      ]
     },
     "execution_count": 8,
     "metadata": {},
     "output_type": "execute_result"
    }
   ],
   "source": [
    "data['outputs_part2'].sum()"
   ]
  },
  {
   "cell_type": "code",
   "execution_count": 9,
   "metadata": {},
   "outputs": [
    {
     "name": "stderr",
     "output_type": "stream",
     "text": [
      "[NbConvertApp] Converting notebook 1.ipynb to script\n",
      "[NbConvertApp] Writing 2493 bytes to 1_raw.py\n"
     ]
    }
   ],
   "source": [
    "def convert_to_py(prefix:str):\n",
    "    from IPython import get_ipython\n",
    "    get_ipython().system(f'jupyter nbconvert --to script {prefix}.ipynb --output {prefix}_raw')\n",
    "\n",
    "convert_to_py('1')"
   ]
  }
 ],
 "metadata": {
  "kernelspec": {
   "display_name": "spy-env-notebooks",
   "language": "python",
   "name": "python3"
  },
  "language_info": {
   "codemirror_mode": {
    "name": "ipython",
    "version": 3
   },
   "file_extension": ".py",
   "mimetype": "text/x-python",
   "name": "python",
   "nbconvert_exporter": "python",
   "pygments_lexer": "ipython3",
   "version": "3.10.4"
  }
 },
 "nbformat": 4,
 "nbformat_minor": 2
}
