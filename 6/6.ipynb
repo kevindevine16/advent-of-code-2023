{
 "cells": [
  {
   "cell_type": "code",
   "execution_count": 1,
   "metadata": {},
   "outputs": [],
   "source": [
    "import numpy as np\n",
    "import pandas as pd\n",
    "\n",
    "import os\n",
    "pd.set_option('display.max_rows', 10)"
   ]
  },
  {
   "cell_type": "code",
   "execution_count": 2,
   "metadata": {},
   "outputs": [
    {
     "data": {
      "text/html": [
       "<div>\n",
       "<style scoped>\n",
       "    .dataframe tbody tr th:only-of-type {\n",
       "        vertical-align: middle;\n",
       "    }\n",
       "\n",
       "    .dataframe tbody tr th {\n",
       "        vertical-align: top;\n",
       "    }\n",
       "\n",
       "    .dataframe thead th {\n",
       "        text-align: right;\n",
       "    }\n",
       "</style>\n",
       "<table border=\"1\" class=\"dataframe\">\n",
       "  <thead>\n",
       "    <tr style=\"text-align: right;\">\n",
       "      <th></th>\n",
       "      <th>inputs</th>\n",
       "    </tr>\n",
       "  </thead>\n",
       "  <tbody>\n",
       "    <tr>\n",
       "      <th>0</th>\n",
       "      <td>Time:        58     99     64     69</td>\n",
       "    </tr>\n",
       "    <tr>\n",
       "      <th>1</th>\n",
       "      <td>Distance:   478   2232   1019   1071</td>\n",
       "    </tr>\n",
       "  </tbody>\n",
       "</table>\n",
       "</div>"
      ],
      "text/plain": [
       "                                 inputs\n",
       "0  Time:        58     99     64     69\n",
       "1  Distance:   478   2232   1019   1071"
      ]
     },
     "execution_count": 2,
     "metadata": {},
     "output_type": "execute_result"
    }
   ],
   "source": [
    "data_path = os.path.join('Data','input.txt')\n",
    "data = pd.read_table(data_path)\n",
    "data = data.T.reset_index().T.reset_index(drop = True)\n",
    "data.rename(columns={0:'inputs'},inplace = True)\n",
    "data"
   ]
  },
  {
   "cell_type": "code",
   "execution_count": 3,
   "metadata": {},
   "outputs": [
    {
     "data": {
      "text/plain": [
       "[58, 99, 64, 69]"
      ]
     },
     "execution_count": 3,
     "metadata": {},
     "output_type": "execute_result"
    }
   ],
   "source": [
    "times = data.iloc[0,0].split('Time: ')[1]\n",
    "times =  times.split(' ')\n",
    "while '' in times:\n",
    "    times.remove('')\n",
    "\n",
    "times = [ int(time) for time in times ]\n",
    "times"
   ]
  },
  {
   "cell_type": "code",
   "execution_count": 4,
   "metadata": {},
   "outputs": [
    {
     "data": {
      "text/plain": [
       "[478, 2232, 1019, 1071]"
      ]
     },
     "execution_count": 4,
     "metadata": {},
     "output_type": "execute_result"
    }
   ],
   "source": [
    "distances = data.iloc[1,0].split('Distance: ')[1]\n",
    "distances = distances.split(' ')\n",
    "while '' in distances:\n",
    "    distances.remove('')\n",
    "distances = [ int(distance) for distance in distances ]\n",
    "distances"
   ]
  },
  {
   "cell_type": "code",
   "execution_count": 5,
   "metadata": {},
   "outputs": [
    {
     "data": {
      "text/plain": [
       "128700"
      ]
     },
     "execution_count": 5,
     "metadata": {},
     "output_type": "execute_result"
    }
   ],
   "source": [
    "num_of_ways_race = []\n",
    "for i in range(len(times)):    \n",
    "    num_of_ways = 0\n",
    "    for j in range(1,times[i]):\n",
    "        if (times[i]-j)*j > distances[i]:\n",
    "            num_of_ways+=1\n",
    "        pass\n",
    "    num_of_ways_race.append(num_of_ways)\n",
    "num_of_ways_race\n",
    "product = 1\n",
    "for number in num_of_ways_race:\n",
    "    product *= number\n",
    "product"
   ]
  },
  {
   "cell_type": "code",
   "execution_count": 6,
   "metadata": {},
   "outputs": [],
   "source": [
    "times = data.iloc[0,0].split('Time: ')[1]\n",
    "times =  times.split(' ')\n",
    "while '' in times:\n",
    "    times.remove('')\n",
    "times\n",
    "time = ''\n",
    "for t in times:\n",
    "    time += t\n",
    "time = int(time)\n"
   ]
  },
  {
   "cell_type": "code",
   "execution_count": 7,
   "metadata": {},
   "outputs": [],
   "source": [
    "distances = data.iloc[1,0].split('Distance: ')[1]\n",
    "distances =  distances.split(' ')\n",
    "while '' in distances:\n",
    "    distances.remove('')\n",
    "distances\n",
    "distance = ''\n",
    "for d in distances:\n",
    "    distance += d\n",
    "distance = int(distance)"
   ]
  },
  {
   "cell_type": "code",
   "execution_count": 8,
   "metadata": {},
   "outputs": [
    {
     "data": {
      "text/plain": [
       "39594072"
      ]
     },
     "execution_count": 8,
     "metadata": {},
     "output_type": "execute_result"
    }
   ],
   "source": [
    "num_of_ways = 0\n",
    "for j in range(1,time):\n",
    "    if (time-j)*j > distance:\n",
    "        num_of_ways+=1\n",
    "    pass\n",
    "num_of_ways"
   ]
  },
  {
   "cell_type": "code",
   "execution_count": 9,
   "metadata": {},
   "outputs": [
    {
     "name": "stderr",
     "output_type": "stream",
     "text": [
      "[NbConvertApp] Converting notebook 6.ipynb to script\n",
      "[NbConvertApp] Writing 2924 bytes to 6_raw.py\n"
     ]
    }
   ],
   "source": [
    "import sys\n",
    "sys.path.append(os.pardir)\n",
    "from src.HelperFunctions import convert_to_py\n",
    "\n",
    "convert_to_py('6')"
   ]
  }
 ],
 "metadata": {
  "kernelspec": {
   "display_name": "spy-env-notebooks",
   "language": "python",
   "name": "python3"
  },
  "language_info": {
   "codemirror_mode": {
    "name": "ipython",
    "version": 3
   },
   "file_extension": ".py",
   "mimetype": "text/x-python",
   "name": "python",
   "nbconvert_exporter": "python",
   "pygments_lexer": "ipython3",
   "version": "3.10.4"
  }
 },
 "nbformat": 4,
 "nbformat_minor": 2
}
