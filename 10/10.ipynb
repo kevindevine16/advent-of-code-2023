{
 "cells": [
  {
   "cell_type": "code",
   "execution_count": 1,
   "metadata": {},
   "outputs": [],
   "source": [
    "import numpy as np\n",
    "import pandas as pd\n",
    "\n",
    "import os\n",
    "pd.set_option('display.max_rows', 10)"
   ]
  },
  {
   "cell_type": "code",
   "execution_count": 2,
   "metadata": {},
   "outputs": [
    {
     "data": {
      "text/html": [
       "<div>\n",
       "<style scoped>\n",
       "    .dataframe tbody tr th:only-of-type {\n",
       "        vertical-align: middle;\n",
       "    }\n",
       "\n",
       "    .dataframe tbody tr th {\n",
       "        vertical-align: top;\n",
       "    }\n",
       "\n",
       "    .dataframe thead th {\n",
       "        text-align: right;\n",
       "    }\n",
       "</style>\n",
       "<table border=\"1\" class=\"dataframe\">\n",
       "  <thead>\n",
       "    <tr style=\"text-align: right;\">\n",
       "      <th></th>\n",
       "      <th>inputs</th>\n",
       "    </tr>\n",
       "  </thead>\n",
       "  <tbody>\n",
       "    <tr>\n",
       "      <th>0</th>\n",
       "      <td>F-|-J7F7F7F-7F7F--7-L|-L7777.FFL-|.|.FF-FF7FFF...</td>\n",
       "    </tr>\n",
       "    <tr>\n",
       "      <th>1</th>\n",
       "      <td>|7LJ7.F-JLJ7L7--7F77.|LLJ|LF7|.LLJ-|7L|FJLF77L...</td>\n",
       "    </tr>\n",
       "    <tr>\n",
       "      <th>2</th>\n",
       "      <td>L|J.7.L-J7FJ--..F-J|-7-|.J|LL-J.F|J|-77L|.LL7J...</td>\n",
       "    </tr>\n",
       "    <tr>\n",
       "      <th>3</th>\n",
       "      <td>LJ.L-|--JF7J|LF7|L-7.|FFJJ-.|JL7JF7F7F7777F-JF...</td>\n",
       "    </tr>\n",
       "    <tr>\n",
       "      <th>4</th>\n",
       "      <td>.L7J7L7JJF|-||||7LJ|LFL7J-LL|7-|-.F|LJ|F7F7JF|...</td>\n",
       "    </tr>\n",
       "    <tr>\n",
       "      <th>...</th>\n",
       "      <td>...</td>\n",
       "    </tr>\n",
       "    <tr>\n",
       "      <th>135</th>\n",
       "      <td>-77JLFF7|J7.7||F|J-J.FLL7.77.7.|JLJ|.F|-FF---J...</td>\n",
       "    </tr>\n",
       "    <tr>\n",
       "      <th>136</th>\n",
       "      <td>FLF--7L-J7|-LL|-|J.J7--JF|77F|.FJLFJ.L|-FJ7.|F...</td>\n",
       "    </tr>\n",
       "    <tr>\n",
       "      <th>137</th>\n",
       "      <td>F7|-FJ|L|-J7.F--F7|FJF|7L|||F77J-FFFL7.F|J|F-F...</td>\n",
       "    </tr>\n",
       "    <tr>\n",
       "      <th>138</th>\n",
       "      <td>LJJJ||L-J7LJ7F|-LLJ|7L--7L-J-.|F--FJ.|7LL.|L--...</td>\n",
       "    </tr>\n",
       "    <tr>\n",
       "      <th>139</th>\n",
       "      <td>LJJ..LL-JJ-L---7J-F77LL.LFJJLL-J-7JJ.L-LL7-L7....</td>\n",
       "    </tr>\n",
       "  </tbody>\n",
       "</table>\n",
       "<p>140 rows × 1 columns</p>\n",
       "</div>"
      ],
      "text/plain": [
       "                                                inputs\n",
       "0    F-|-J7F7F7F-7F7F--7-L|-L7777.FFL-|.|.FF-FF7FFF...\n",
       "1    |7LJ7.F-JLJ7L7--7F77.|LLJ|LF7|.LLJ-|7L|FJLF77L...\n",
       "2    L|J.7.L-J7FJ--..F-J|-7-|.J|LL-J.F|J|-77L|.LL7J...\n",
       "3    LJ.L-|--JF7J|LF7|L-7.|FFJJ-.|JL7JF7F7F7777F-JF...\n",
       "4    .L7J7L7JJF|-||||7LJ|LFL7J-LL|7-|-.F|LJ|F7F7JF|...\n",
       "..                                                 ...\n",
       "135  -77JLFF7|J7.7||F|J-J.FLL7.77.7.|JLJ|.F|-FF---J...\n",
       "136  FLF--7L-J7|-LL|-|J.J7--JF|77F|.FJLFJ.L|-FJ7.|F...\n",
       "137  F7|-FJ|L|-J7.F--F7|FJF|7L|||F77J-FFFL7.F|J|F-F...\n",
       "138  LJJJ||L-J7LJ7F|-LLJ|7L--7L-J-.|F--FJ.|7LL.|L--...\n",
       "139  LJJ..LL-JJ-L---7J-F77LL.LFJJLL-J-7JJ.L-LL7-L7....\n",
       "\n",
       "[140 rows x 1 columns]"
      ]
     },
     "execution_count": 2,
     "metadata": {},
     "output_type": "execute_result"
    }
   ],
   "source": [
    "data_path = os.path.join('Data','input.txt')\n",
    "data = pd.read_table(data_path)\n",
    "data = data.T.reset_index().T.reset_index(drop = True)\n",
    "data.rename(columns={0:'inputs'},inplace = True)\n",
    "data"
   ]
  },
  {
   "cell_type": "code",
   "execution_count": 3,
   "metadata": {},
   "outputs": [],
   "source": [
    "a = np.array([list(x) for x in data['inputs']])\n",
    "def FindStart(a: np.ndarray) -> tuple:\n",
    "    Start_Index = []\n",
    "    Second_Indices = []\n",
    "    Second_Elements = []\n",
    "    for i in range(len(a)):\n",
    "        for j in range(len(a[i])):\n",
    "            if a[i][j] == 'S':\n",
    "                Start_Index.append([i,j])\n",
    "    i = Start_Index[0][0]\n",
    "    j = Start_Index[0][1]\n",
    "    if (a[i][j-1] == 'L') or (a[i][j-1] == 'F') or (a[i][j-1] == '-'):\n",
    "        Second_Indices.append([i,j-1])\n",
    "        Second_Elements.append(a[i,j-1])\n",
    "    if (a[i][j+1] == 'J') or (a[i][j+1] == '7') or (a[i][j+1] == '-'):\n",
    "        Second_Indices.append([i,j+1])\n",
    "        Second_Elements.append(a[i,j+1])\n",
    "    if (a[i+1][j] == 'L') or (a[i+1][j] == 'J') or (a[i+1][j] == '|'):\n",
    "        Second_Indices.append([i+1,j])\n",
    "        Second_Elements.append(a[i+1,j])\n",
    "    if (a[i-1][j] == '7') or (a[i-1][j] == 'F') or (a[i-1][j] == '|'):\n",
    "        Second_Indices.append([i-1,j])\n",
    "        Second_Elements.append(a[i-1,j])\n",
    "    \n",
    "    return Start_Index[0], Second_Indices, Second_Elements\n",
    "\n",
    "Start_Index, Second_Indices, Second_Elements = FindStart(a)\n"
   ]
  },
  {
   "cell_type": "code",
   "execution_count": 4,
   "metadata": {},
   "outputs": [],
   "source": [
    "def FindPipeIndices(Start_Index:list,\n",
    "                  Second_Indices:list,\n",
    "                  Second_Elements:list, \n",
    "                  a:np.ndarray)->list:\n",
    "    first_previous_i = Start_Index[0]\n",
    "    first_previous_j = Start_Index[1]\n",
    "    first_next_i = Second_Indices[0][0]\n",
    "    first_next_j = Second_Indices[0][1]\n",
    "    pipe_indices = [[first_previous_i,first_previous_j],[first_next_i, first_next_j]]\n",
    "    first_next_element = Second_Elements[0]\n",
    "    while a[first_next_i][first_next_j] != 'S':\n",
    "        if (first_next_element == 'F'): \n",
    "            if (first_next_j < first_previous_j):\n",
    "                first_previous_i = first_next_i\n",
    "                first_previous_j = first_next_j\n",
    "                first_next_i +=1\n",
    "            else: \n",
    "                first_previous_i = first_next_i\n",
    "                first_previous_j = first_next_j\n",
    "                first_next_j += 1\n",
    "            first_next_element = a[first_next_i,first_next_j]\n",
    "        elif (first_next_element == '|'):\n",
    "            if (first_next_i < first_previous_i):\n",
    "                first_previous_i = first_next_i\n",
    "                first_previous_j = first_next_j\n",
    "                first_next_i -= 1\n",
    "            else: \n",
    "                first_previous_i = first_next_i\n",
    "                first_previous_j = first_next_j\n",
    "                first_next_i += 1\n",
    "            first_next_element = a[first_next_i,first_next_j]\n",
    "        elif (first_next_element == '-'):\n",
    "            if (first_next_j < first_previous_j):\n",
    "                first_previous_i = first_next_i\n",
    "                first_previous_j = first_next_j\n",
    "                first_next_j -= 1\n",
    "            else: \n",
    "                first_previous_i = first_next_i\n",
    "                first_previous_j = first_next_j\n",
    "                first_next_j += 1\n",
    "            first_next_element = a[first_next_i,first_next_j]\n",
    "        elif (first_next_element == 'L'):\n",
    "            if (first_next_i > first_previous_i):\n",
    "                first_previous_i = first_next_i\n",
    "                first_previous_j = first_next_j\n",
    "                first_next_j += 1\n",
    "            else:\n",
    "                first_previous_i = first_next_i\n",
    "                first_previous_j = first_next_j\n",
    "                first_next_i -= 1\n",
    "            first_next_element = a[first_next_i,first_next_j]\n",
    "        elif (first_next_element == '7'):\n",
    "            if (first_next_i < first_previous_i):\n",
    "                first_previous_i = first_next_i\n",
    "                first_previous_j = first_next_j \n",
    "                first_next_j -= 1\n",
    "            else: \n",
    "                first_previous_i = first_next_i\n",
    "                first_previous_j = first_next_j\n",
    "                first_next_i += 1\n",
    "            first_next_element = a[first_next_i,first_next_j]\n",
    "        elif (first_next_element == 'J'):\n",
    "            if (first_next_i > first_previous_i):\n",
    "                first_previous_i = first_next_i\n",
    "                first_previous_j = first_next_j\n",
    "                first_next_j -= 1\n",
    "            else: \n",
    "                first_previous_i = first_next_i\n",
    "                first_previous_j = first_next_j\n",
    "                first_next_i -= 1\n",
    "            first_next_element = a[first_next_i,first_next_j]\n",
    "        elif(first_next_element == 'S'):\n",
    "            pass\n",
    "        else:\n",
    "            raise Exception\n",
    "\n",
    "        pipe_indices.append([first_next_i, first_next_j])\n",
    "\n",
    "        pass\n",
    "\n",
    "    return pipe_indices"
   ]
  },
  {
   "cell_type": "code",
   "execution_count": 5,
   "metadata": {},
   "outputs": [
    {
     "data": {
      "text/plain": [
       "6757"
      ]
     },
     "execution_count": 5,
     "metadata": {},
     "output_type": "execute_result"
    }
   ],
   "source": [
    "pipe_indices = FindPipeIndices(Start_Index,\n",
    "                             Second_Indices,\n",
    "                             Second_Elements, \n",
    "                             a)\n",
    "distance_from_animal = int(len(pipe_indices[0:-1])/2)\n",
    "distance_from_animal"
   ]
  },
  {
   "cell_type": "markdown",
   "metadata": {},
   "source": [
    "[Shoelace formula](https://en.wikipedia.org/wiki/Shoelace_formula) to get area enclosed by pipe."
   ]
  },
  {
   "cell_type": "code",
   "execution_count": 6,
   "metadata": {},
   "outputs": [],
   "source": [
    "def GetArea(pipe_indices:list)->int:\n",
    "    Area = 0\n",
    "    for k in range(len(pipe_indices[0:-1])):\n",
    "        Area += 0.5*np.linalg.det(np.array([pipe_indices[k],pipe_indices[k+1]]).transpose())\n",
    "    return int(abs(Area))"
   ]
  },
  {
   "cell_type": "code",
   "execution_count": 7,
   "metadata": {},
   "outputs": [],
   "source": [
    "Area = GetArea(pipe_indices)"
   ]
  },
  {
   "cell_type": "markdown",
   "metadata": {},
   "source": [
    "[Pick's theorem](https://en.wikipedia.org/wiki/Pick%27s_theorem) to find number of interior points."
   ]
  },
  {
   "cell_type": "code",
   "execution_count": 8,
   "metadata": {},
   "outputs": [
    {
     "data": {
      "text/plain": [
       "523"
      ]
     },
     "execution_count": 8,
     "metadata": {},
     "output_type": "execute_result"
    }
   ],
   "source": [
    "interior_points = Area - distance_from_animal - 0 + 1\n",
    "interior_points"
   ]
  },
  {
   "cell_type": "code",
   "execution_count": 9,
   "metadata": {},
   "outputs": [
    {
     "name": "stderr",
     "output_type": "stream",
     "text": [
      "[NbConvertApp] Converting notebook 10.ipynb to script\n",
      "[NbConvertApp] Writing 8864 bytes to 10_raw.py\n"
     ]
    }
   ],
   "source": [
    "import sys\n",
    "sys.path.append(os.pardir)\n",
    "from src.HelperFunctions import convert_to_py\n",
    "\n",
    "convert_to_py('10')"
   ]
  }
 ],
 "metadata": {
  "kernelspec": {
   "display_name": "vscode-env",
   "language": "python",
   "name": "python3"
  },
  "language_info": {
   "codemirror_mode": {
    "name": "ipython",
    "version": 3
   },
   "file_extension": ".py",
   "mimetype": "text/x-python",
   "name": "python",
   "nbconvert_exporter": "python",
   "pygments_lexer": "ipython3",
   "version": "3.10.4"
  }
 },
 "nbformat": 4,
 "nbformat_minor": 2
}
